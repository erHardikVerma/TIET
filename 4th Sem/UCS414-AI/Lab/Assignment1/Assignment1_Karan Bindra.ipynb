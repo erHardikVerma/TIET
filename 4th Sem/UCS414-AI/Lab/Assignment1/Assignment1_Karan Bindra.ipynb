{
  "metadata": {
    "language_info": {
      "codemirror_mode": {
        "name": "python",
        "version": 3
      },
      "file_extension": ".py",
      "mimetype": "text/x-python",
      "name": "python",
      "nbconvert_exporter": "python",
      "pygments_lexer": "ipython3",
      "version": "3.8"
    },
    "kernelspec": {
      "name": "python",
      "display_name": "Python (Pyodide)",
      "language": "python"
    }
  },
  "nbformat_minor": 4,
  "nbformat": 4,
  "cells": [
    {
      "cell_type": "code",
      "source": "x = float(input(\"Enter value of x: \"))\nn = int(input(\"Enter value of n: \"))\n\nsum = 0\nfor i in range(1, n+1):\n    sum += (x**i)/math.factorial(i)\n\nprint(\"Sum of series: \", sum)\n",
      "metadata": {
        "trusted": true
      },
      "execution_count": null,
      "outputs": []
    },
    {
      "cell_type": "code",
      "source": "import random\n\n# Create a list of 100 random numbers between 100 and 900\nrandom_list = [random.randint(100, 900) for i in range(100)]\n\n# Initialize count variables for odd numbers, even numbers, and prime numbers\nodd_count = 0\neven_count = 0\nprime_count = 0\n\n# Iterate through the list and check for odd, even, and prime numbers\nfor num in random_list:\n    if num % 2 == 0:\n        even_count += 1\n    else:\n        odd_count += 1\n    if all(num%i!=0 for i in range(2,int(num**(1/2))+1)):\n        prime_count += 1\n\n# Print the count of odd, even, and prime numbers\nprint(\"Number of odd numbers:\", odd_count)\nprint(\"Number of even numbers:\", even_count)\nprint(\"Number of prime numbers:\", prime_count)\n",
      "metadata": {
        "trusted": true
      },
      "execution_count": null,
      "outputs": []
    },
    {
      "cell_type": "code",
      "source": "def prime_numbers(start, end):\n    for num in range(start, end + 1):\n        if num > 1:\n            for i in range(2, num):\n                if (num % i) == 0:\n                    break\n            else:\n                print(num)\n\nstart = int(input(\"Enter the start of the range: \"))\nend = int(input(\"Enter the end of the range: \"))\n\nprint(\"Prime numbers between\", start, \"and\", end, \"are:\")\nprime_numbers(start, end)\n",
      "metadata": {
        "trusted": true
      },
      "execution_count": null,
      "outputs": []
    },
    {
      "cell_type": "code",
      "source": "list1 = [1, 2, 3, 4, 5]\nlist2 = [3, 4, 5, 6, 7]\n\ncommon_elements = list(set(list1) & set(list2))\nprint(\"Common elements are:\", common_elements)\n",
      "metadata": {},
      "execution_count": null,
      "outputs": []
    },
    {
      "cell_type": "code",
      "source": "def leap_years(start, end):\n    for year in range(start, end + 1):\n        if year % 4 == 0 and (year % 100 != 0 or year % 400 == 0):\n            print(year)\n\nstart = int(input(\"Enter the start of the range: \"))\nend = int(input(\"Enter the end of the range: \"))\n\nprint(\"Leap years between\", start, \"and\", end, \"are:\")\nleap_years(start, end)\n",
      "metadata": {
        "trusted": true
      },
      "execution_count": null,
      "outputs": []
    },
    {
      "cell_type": "code",
      "source": "basic_salary = float(input(\"Enter the basic salary: \"))\n\nif basic_salary <= 10000:\n    hra = 0.2 * basic_salary\n    da = 0.8 * basic_salary\nelif basic_salary <= 20000:\n    hra = 0.25 * basic_salary\n    da = 0.9 * basic_salary\nelse:\n    hra = 0.3 * basic_salary\n    da = 0.95 * basic_salary\n\ngross_salary = basic_salary + hra + da\nprint(\"Gross salary:\", gross_salary)\n",
      "metadata": {
        "trusted": true
      },
      "execution_count": null,
      "outputs": []
    },
    {
      "cell_type": "code",
      "source": "import re\n\npassword = input(\"Enter the password: \")\n\nif len(password) < 6 or len(password) > 16:\n    print(\"Invalid password. Password should be at least 6 characters and at most 16 characters.\")\nelif not re.search(\"[a-z]\", password):\n    print(\"Invalid password. Password should contain at least one lowercase letter.\")\nelif not re.search(\"[A-Z]\", password):\n    print(\"Invalid password. Password should contain at least one uppercase letter.\")\nelif not re.search(\"[0-9]\", password):\n    print(\"Invalid password. Password should contain at least one number.\")\nelif not re.search(\"[$#@]\", password):\n    print(\"Invalid password. Password should contain at least one special character from $#@.\")\nelse:\n    print(\"Valid password.\")\n",
      "metadata": {},
      "execution_count": null,
      "outputs": []
    },
    {
      "cell_type": "code",
      "source": "L = [10, 20, 30, 40, 50, 60, 70, 80]\n\n# (i) WAP to add 200 and 300 to L\nL.append(200)\nL.append(300)\nprint(L) # [10, 20, 30, 40, 50, 60, 70, 80, 200, 300]\n\n# (ii) WAP to remove 10 and 30 from L\nL.remove(10)\nL.remove(30)\nprint(L) # [20, 40, 50, 60, 70, 80, 200, 300]\n\n# (iii) WAP to sort L in ascending order\nL.sort()\nprint(L) # [20, 40, 50, 60, 70, 80, 200, 300]\n\n# (iv) WAP to sort L in descending order\nL.sort(reverse=True)\nprint(L) # [300, 200, 80, 70, 60, 50, 40, 20]\n",
      "metadata": {},
      "execution_count": null,
      "outputs": []
    },
    {
      "cell_type": "code",
      "source": "D[6] = \"Six\"\n\ndel D[2]\n\nif 6 in D:\n    print(\"Key 6 is present in D.\")\nelse:\n    print(\"Key 6 is not present in D.\")\n    \nprint(len(D))\n\ntotal = 0\nfor value in D.values():\n    total += value\nprint(total)\n\n",
      "metadata": {},
      "execution_count": null,
      "outputs": []
    },
    {
      "cell_type": "code",
      "source": "def compound_interest(principal, rate, time):\n    return principal * (1 + rate / 100) ** time\n\n# Call the function with some example values\np = 10000\nr = 7.5\nt = 5\nci = compound_interest(p, r, t)\n\nprint(\"Compound interest:\", ci)\n",
      "metadata": {},
      "execution_count": null,
      "outputs": []
    }
  ]
}